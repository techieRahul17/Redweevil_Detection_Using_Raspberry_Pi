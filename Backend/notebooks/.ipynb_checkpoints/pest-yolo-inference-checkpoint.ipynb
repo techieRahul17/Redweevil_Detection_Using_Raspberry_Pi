{
 "cells": [
  {
   "cell_type": "code",
   "execution_count": 11,
   "id": "15d113f1-420e-467d-bb71-29c5fc2d36b4",
   "metadata": {},
   "outputs": [],
   "source": [
    "from ultralytics import YOLO"
   ]
  },
  {
   "cell_type": "code",
   "execution_count": 12,
   "id": "5c9a64ba-79d1-43a4-8e58-237ba8b38c29",
   "metadata": {},
   "outputs": [],
   "source": [
    "model_path = \"../models/Pest-YOLOv11s.pt\"\n",
    "\n",
    "model = YOLO(model_path)"
   ]
  },
  {
   "cell_type": "code",
   "execution_count": null,
   "id": "9bd26e2b-be86-4f11-baf5-dee6c5356e62",
   "metadata": {},
   "outputs": [],
   "source": [
    "results = model(\"test.jpg\")  \n",
    "\n",
    "results[0].show()"
   ]
  }
 ],
 "metadata": {
  "kernelspec": {
   "display_name": "Python 3 (ipykernel)",
   "language": "python",
   "name": "python3"
  },
  "language_info": {
   "codemirror_mode": {
    "name": "ipython",
    "version": 3
   },
   "file_extension": ".py",
   "mimetype": "text/x-python",
   "name": "python",
   "nbconvert_exporter": "python",
   "pygments_lexer": "ipython3",
   "version": "3.13.5"
  }
 },
 "nbformat": 4,
 "nbformat_minor": 5
}
